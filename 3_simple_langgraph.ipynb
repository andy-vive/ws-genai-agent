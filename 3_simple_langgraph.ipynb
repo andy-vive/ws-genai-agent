{
 "cells": [
  {
   "cell_type": "code",
   "execution_count": 1,
   "id": "e41431a1",
   "metadata": {},
   "outputs": [
    {
     "name": "stdout",
     "output_type": "stream",
     "text": [
      "\n",
      "\u001b[1m[\u001b[0m\u001b[34;49mnotice\u001b[0m\u001b[1;39;49m]\u001b[0m\u001b[39;49m A new release of pip is available: \u001b[0m\u001b[31;49m24.3.1\u001b[0m\u001b[39;49m -> \u001b[0m\u001b[32;49m25.3\u001b[0m\n",
      "\u001b[1m[\u001b[0m\u001b[34;49mnotice\u001b[0m\u001b[1;39;49m]\u001b[0m\u001b[39;49m To update, run: \u001b[0m\u001b[32;49mpip install --upgrade pip\u001b[0m\n",
      "Note: you may need to restart the kernel to use updated packages.\n"
     ]
    }
   ],
   "source": [
    "# Install dependencies\n",
    "%pip install -q langchain langchain-core google-genai python-dotenv langchain_google_genai langgraph"
   ]
  },
  {
   "cell_type": "code",
   "execution_count": 7,
   "id": "3277bb29",
   "metadata": {},
   "outputs": [],
   "source": [
    "import os\n",
    "from typing import TypedDict, List\n",
    "from langchain_core.messages import HumanMessage\n",
    "from langchain_core.prompts import ChatPromptTemplate\n",
    "from langchain_core.runnables.graph import MermaidDrawMethod\n",
    "from langchain_google_genai import ChatGoogleGenerativeAI\n",
    "from langgraph.graph import StateGraph, END\n",
    "from IPython.display import display, Image\n",
    "\n",
    "from dotenv import load_dotenv"
   ]
  },
  {
   "cell_type": "code",
   "execution_count": 8,
   "id": "e933f7ac",
   "metadata": {},
   "outputs": [
    {
     "data": {
      "text/plain": [
       "True"
      ]
     },
     "execution_count": 8,
     "metadata": {},
     "output_type": "execute_result"
    }
   ],
   "source": [
    "load_dotenv()"
   ]
  },
  {
   "cell_type": "markdown",
   "id": "65dd2d74",
   "metadata": {},
   "source": [
    "### Define state, llm"
   ]
  },
  {
   "cell_type": "code",
   "execution_count": 9,
   "id": "c439020b",
   "metadata": {},
   "outputs": [],
   "source": [
    "class State(TypedDict):\n",
    "    text: str\n",
    "    classification: str\n",
    "    entities: List[str]\n",
    "    summary: str\n",
    "        \n",
    "llm = ChatGoogleGenerativeAI(\n",
    "    model=\"gemini-2.0-flash\",\n",
    "    api_key=os.getenv(\"GOOGLE_API_KEY\"),\n",
    ")"
   ]
  },
  {
   "cell_type": "markdown",
   "id": "46bae33e",
   "metadata": {},
   "source": [
    "### Define node functions"
   ]
  },
  {
   "cell_type": "code",
   "execution_count": 10,
   "id": "6fde1eb0",
   "metadata": {},
   "outputs": [],
   "source": [
    "def classification_node(state: State):\n",
    "    \"\"\"\n",
    "    Classify the text into one of the following categories:\n",
    "    - News\n",
    "    - Research\n",
    "    - Other\n",
    "    \"\"\"\n",
    "    prompt = ChatPromptTemplate.from_template(\n",
    "        \"\"\"\n",
    "        Classify the following text into one of the categories: News, Blog, Research, or Other.\n",
    "        Text:{text}\n",
    "        Category:\n",
    "    \"\"\"\n",
    "    )\n",
    "    chain = prompt | llm\n",
    "\n",
    "    content = chain.invoke({\"text\": state[\"text\"]}).content\n",
    "\n",
    "    return {\"classification\": content}\n",
    "\n",
    "\n",
    "def extraction_node(state: State):\n",
    "    \"\"\"\n",
    "    Extract entities from the text.\n",
    "    \"\"\"\n",
    "    prompt = ChatPromptTemplate.from_template(\n",
    "        \"\"\"\n",
    "        Extract all the entities (Person, Organization, Location) from the following text.\n",
    "        Provide the result as a comma-separated list.\n",
    "        Text:{text}\n",
    "        Entities:\n",
    "    \"\"\"\n",
    "    )\n",
    "\n",
    "    chain = prompt | llm\n",
    "\n",
    "    content = chain.invoke({\"text\": state[\"text\"]}).content.strip().split(\", \")\n",
    "\n",
    "    return {\"entities\": content}\n",
    "\n",
    "\n",
    "def summary_node(state: State):\n",
    "    \"\"\"\n",
    "    Generate a summary of the text.\n",
    "    \"\"\"\n",
    "    prompt = ChatPromptTemplate.from_template(\n",
    "        \"\"\"\n",
    "        Generate a summary of the following text.\n",
    "        Text:{text}\n",
    "        Summary:\n",
    "    \"\"\"\n",
    "    )\n",
    "\n",
    "    chain = prompt | llm\n",
    "\n",
    "    content = chain.invoke({\"text\": state[\"text\"]}).content\n",
    "\n",
    "    return {\"summary\": content}"
   ]
  },
  {
   "cell_type": "markdown",
   "id": "0f5a78fa",
   "metadata": {},
   "source": [
    "### Create workflow"
   ]
  },
  {
   "cell_type": "code",
   "execution_count": 12,
   "id": "dc08364b",
   "metadata": {},
   "outputs": [],
   "source": [
    "workflow = StateGraph(State)\n",
    "\n",
    "# Add nodes\n",
    "workflow.add_node(\"classification_node\", classification_node)\n",
    "workflow.add_node(\"extraction_node\", extraction_node)\n",
    "workflow.add_node(\"summary_node\", summary_node)\n",
    "\n",
    "# Add edges\n",
    "workflow.set_entry_point(\"classification_node\")\n",
    "workflow.add_edge(\"classification_node\", \"extraction_node\")\n",
    "workflow.add_edge(\"extraction_node\", \"summary_node\")\n",
    "workflow.add_edge(\"summary_node\", END)\n",
    "\n",
    "# Build\n",
    "graph = workflow.compile()"
   ]
  },
  {
   "cell_type": "markdown",
   "id": "6ac5fb45",
   "metadata": {},
   "source": [
    "### Display graph"
   ]
  },
  {
   "cell_type": "code",
   "execution_count": 14,
   "id": "3f1f8b17",
   "metadata": {},
   "outputs": [
    {
     "data": {
      "image/png": "[encoded data removed]",
      "text/plain": [
       "<IPython.core.display.Image object>"
      ]
     },
     "metadata": {},
     "output_type": "display_data"
    }
   ],
   "source": [
    "display(\n",
    "    Image(\n",
    "        graph.get_graph().draw_mermaid_png(\n",
    "            draw_method=MermaidDrawMethod.API,\n",
    "        )\n",
    "    )\n",
    ")"
   ]
  },
  {
   "cell_type": "code",
   "execution_count": 16,
   "id": "3316d722",
   "metadata": {},
   "outputs": [
    {
     "name": "stdout",
     "output_type": "stream",
     "text": [
      "Classification: News\n",
      "\n",
      "Entities: ['OpenAI', 'GPT-4', 'GPT-3']\n",
      "\n",
      "Summary: OpenAI has announced GPT-4, a more efficient, scalable, and safer large multimodal model designed to perform at a human level on professional benchmarks. It will be released to the public for research and development in the coming months.\n"
     ]
    }
   ],
   "source": [
    "sample_text = \"\"\"\n",
    "OpenAI has announced the GPT-4 model, which is a large multimodal model that exhibits human-level performance on various professional benchmarks. It is developed to improve the alignment and safety of AI systems.\n",
    "additionally, the model is designed to be more efficient and scalable than its predecessor, GPT-3. The GPT-4 model is expected to be released in the coming months and will be available to the public for research and development purposes.\n",
    "\"\"\"\n",
    "\n",
    "state_input = {\"text\": sample_text}\n",
    "result = graph.invoke(state_input)\n",
    "\n",
    "print(\"Classification:\", result[\"classification\"])\n",
    "print(\"\\nEntities:\", result[\"entities\"])\n",
    "print(\"\\nSummary:\", result[\"summary\"])"
   ]
  }
 ],
 "metadata": {
  "kernelspec": {
   "display_name": ".venv",
   "language": "python",
   "name": "python3"
  },
  "language_info": {
   "codemirror_mode": {
    "name": "ipython",
    "version": 3
   },
   "file_extension": ".py",
   "mimetype": "text/x-python",
   "name": "python",
   "nbconvert_exporter": "python",
   "pygments_lexer": "ipython3",
   "version": "3.13.1"
  }
 },
 "nbformat": 4,
 "nbformat_minor": 5
}
