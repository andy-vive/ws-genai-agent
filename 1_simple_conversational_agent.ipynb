{
 "cells": [
  {
   "cell_type": "code",
   "execution_count": 62,
   "id": "44a27965",
   "metadata": {},
   "outputs": [
    {
     "name": "stdout",
     "output_type": "stream",
     "text": [
      "\n",
      "\u001b[1m[\u001b[0m\u001b[34;49mnotice\u001b[0m\u001b[1;39;49m]\u001b[0m\u001b[39;49m A new release of pip is available: \u001b[0m\u001b[31;49m24.3.1\u001b[0m\u001b[39;49m -> \u001b[0m\u001b[32;49m25.3\u001b[0m\n",
      "\u001b[1m[\u001b[0m\u001b[34;49mnotice\u001b[0m\u001b[1;39;49m]\u001b[0m\u001b[39;49m To update, run: \u001b[0m\u001b[32;49mpip install --upgrade pip\u001b[0m\n",
      "Note: you may need to restart the kernel to use updated packages.\n"
     ]
    }
   ],
   "source": [
    "# Install dependencies\n",
    "%pip install -q langchain langchain-core langchain-community google-genai python-dotenv langchain_google_genai"
   ]
  },
  {
   "cell_type": "code",
   "execution_count": 63,
   "id": "b91af2a0",
   "metadata": {},
   "outputs": [],
   "source": [
    "from langchain_core.runnables.history import RunnableWithMessageHistory\n",
    "from langchain_google_genai import ChatGoogleGenerativeAI\n",
    "from langchain_core.prompts import ChatPromptTemplate, MessagesPlaceholder\n",
    "from langchain_community.chat_message_histories.in_memory import ChatMessageHistory\n",
    "import os\n",
    "from dotenv import load_dotenv"
   ]
  },
  {
   "cell_type": "code",
   "execution_count": 64,
   "id": "789a3c9f",
   "metadata": {},
   "outputs": [],
   "source": [
    "load_dotenv()\n",
    "\n",
    "llm = ChatGoogleGenerativeAI(\n",
    "    model=\"gemini-2.0-flash\",\n",
    "    api_key=os.getenv(\"GOOGLE_API_KEY\"),\n",
    "    max_output_tokens=1024,\n",
    ")"
   ]
  },
  {
   "cell_type": "code",
   "execution_count": 65,
   "id": "9a4a9e02",
   "metadata": {},
   "outputs": [
    {
     "data": {
      "text/plain": [
       "AIMessage(content='Hello! How can I help you today?', additional_kwargs={}, response_metadata={'prompt_feedback': {'block_reason': 0, 'safety_ratings': []}, 'finish_reason': 'STOP', 'model_name': 'gemini-2.0-flash', 'safety_ratings': [], 'grounding_metadata': {}, 'model_provider': 'google_genai'}, id='lc_run--54783a0b-f274-47f8-82eb-c6e85ec06413-0', usage_metadata={'input_tokens': 1, 'output_tokens': 10, 'total_tokens': 11, 'input_token_details': {'cache_read': 0}})"
      ]
     },
     "execution_count": 65,
     "metadata": {},
     "output_type": "execute_result"
    }
   ],
   "source": [
    "# Test LLM configuraiion\n",
    "llm.invoke(\"Hello\")"
   ]
  },
  {
   "cell_type": "markdown",
   "id": "bcc7a0fa",
   "metadata": {},
   "source": [
    "### Create simple store for chat histories"
   ]
  },
  {
   "cell_type": "code",
   "execution_count": 66,
   "id": "f6033dc0",
   "metadata": {},
   "outputs": [],
   "source": [
    "store = {}\n",
    "\n",
    "def get_chat_history(session_id: str):\n",
    "    if session_id not in store:\n",
    "        store[session_id] = ChatMessageHistory()\n",
    "        \n",
    "    return store[session_id]"
   ]
  },
  {
   "cell_type": "code",
   "execution_count": 67,
   "id": "fbf8f0f1",
   "metadata": {},
   "outputs": [],
   "source": [
    "prompt = ChatPromptTemplate.from_messages([\n",
    "    (\"system\", \"You are a helpful assistant.\"),\n",
    "    MessagesPlaceholder(variable_name=\"history\"),\n",
    "    (\"human\", \"{input}\")\n",
    "])"
   ]
  },
  {
   "cell_type": "code",
   "execution_count": 68,
   "id": "fbab44e1",
   "metadata": {},
   "outputs": [],
   "source": [
    "chain = prompt | llm"
   ]
  },
  {
   "cell_type": "code",
   "execution_count": 69,
   "id": "f1d62876",
   "metadata": {},
   "outputs": [],
   "source": [
    "chain_with_history = RunnableWithMessageHistory(\n",
    "    chain,\n",
    "    get_chat_history,\n",
    "    input_messages_key=\"input\",\n",
    "    history_messages_key=\"history\"\n",
    ")"
   ]
  },
  {
   "cell_type": "code",
   "execution_count": 70,
   "id": "d8083670",
   "metadata": {},
   "outputs": [
    {
     "name": "stdout",
     "output_type": "stream",
     "text": [
      "Session s1 AI: Hello! How can I help you today?\n",
      "Session s1 AI: The last message I sent was \"Hello! How can I help you today?\".\n",
      "Session s2 AI: I'm sorry, I don't have access to past conversations or the ability to remember previous interactions. Therefore, I don't know what the \"last message\" is.\n",
      "\n",
      "Conversation History:\n",
      "human: Hello\n",
      "ai: Hello! How can I help you today?\n",
      "human: What is the last message\n",
      "ai: The last message I sent was \"Hello! How can I help you today?\".\n"
     ]
    }
   ],
   "source": [
    "session_one_id = \"s1\"\n",
    "session_two_id = \"s2\"\n",
    "response = chain_with_history.invoke(\n",
    "    {\n",
    "        \"input\": \"Hello\"\n",
    "    },\n",
    "    config={\"configurable\": {\"session_id\": session_one_id}},\n",
    ")\n",
    "\n",
    "print(f\"Session {session_one_id} AI:\", response.content)\n",
    "\n",
    "response = chain_with_history.invoke(\n",
    "    {\n",
    "        \"input\": \"What is the last message\"\n",
    "    },\n",
    "    config={\"configurable\": {\"session_id\": session_one_id}},\n",
    ")\n",
    "\n",
    "print(f\"Session {session_one_id} AI:\", response.content)\n",
    "\n",
    "response = chain_with_history.invoke(\n",
    "    {\n",
    "        \"input\": \"What is the last message\"\n",
    "    },\n",
    "    config={\"configurable\": {\"session_id\": session_two_id}},\n",
    ")\n",
    "\n",
    "print(f\"Session {session_two_id} AI:\", response.content)\n",
    "\n",
    "\n",
    "print(\"\\nConversation History:\")\n",
    "for message in store[session_one_id].messages:\n",
    "    print(f\"{message.type}: {message.content}\")\n"
   ]
  }
 ],
 "metadata": {
  "kernelspec": {
   "display_name": ".venv",
   "language": "python",
   "name": "python3"
  },
  "language_info": {
   "codemirror_mode": {
    "name": "ipython",
    "version": 3
   },
   "file_extension": ".py",
   "mimetype": "text/x-python",
   "name": "python",
   "nbconvert_exporter": "python",
   "pygments_lexer": "ipython3",
   "version": "3.13.1"
  }
 },
 "nbformat": 4,
 "nbformat_minor": 5
}
